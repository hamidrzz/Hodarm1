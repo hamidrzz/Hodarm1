{
 "cells": [
  {
   "cell_type": "code",
   "execution_count": 275,
   "id": "437673d4",
   "metadata": {},
   "outputs": [],
   "source": [
    "import pandas as pd\n",
    "import numpy as np\n",
    "import matplotlib.pyplot as plt\n",
    "%matplotlib inline\n",
    "import warnings\n",
    "warnings.filterwarnings('ignore')\n",
    "from sklearn.preprocessing import MinMaxScaler\n",
    "from sklearn.model_selection import train_test_split, cross_val_score\n",
    "from sklearn.metrics import accuracy_score\n",
    "from sklearn import neighbors\n",
    "from sklearn.ensemble import RandomForestRegressor\n",
    "from sklearn.neural_network import MLPRegressor\n",
    "from numpy.random import seed\n",
    "from sklearn import metrics\n",
    "seed(42)\n",
    "from sklearn.metrics import confusion_matrix\n",
    "from utils.metrics import evaluate\n",
    "from sklearn.preprocessing import StandardScaler\n",
    "import xgboost as xgb\n",
    "import lightgbm as lgb\n",
    "from sklearn import linear_model, svm\n",
    "from utils.plots import bar_metrics\n",
    "from tensorflow.keras.models import Sequential\n",
    "from tensorflow.keras.layers import LSTM\n",
    "from tensorflow.keras.layers import Dense\n",
    "from tensorflow.keras.layers import Flatten\n",
    "from tensorflow.keras.layers import Dropout\n",
    "from sklearn.tree import DecisionTreeClassifier\n",
    "from sklearn.discriminant_analysis import LinearDiscriminantAnalysis\n",
    "from matplotlib import pyplot\n",
    "from sklearn.ensemble import ExtraTreesClassifier\n",
    "import tensorflow as tf\n",
    "from prophet import Prophet\n",
    "import seaborn as sns # Visualization\n",
    "import datetime as dt\n",
    "from sklearn.model_selection import GridSearchCV\n",
    "from sklearn.metrics import make_scorer\n",
    "from bayes_opt import BayesianOptimization\n",
    "from sklearn.model_selection import GridSearchCV, cross_val_score"
   ]
  },
  {
   "cell_type": "code",
   "execution_count": 244,
   "id": "5ea6b3f1",
   "metadata": {},
   "outputs": [],
   "source": [
    "df = pd.read_csv('HODARM_data.csv')\n",
    "datelist_train = list(df['Date'])\n",
    "datelist_train = [dt.datetime.strptime(date, '%m/%d/%Y').date() for date in datelist_train]\n",
    "df['Date'] = pd.to_datetime(df.Date, format='%m/%d/%Y')\n",
    "df.set_index('Date', inplace=True)\n"
   ]
  },
  {
   "cell_type": "code",
   "execution_count": 245,
   "id": "bfa761b8",
   "metadata": {},
   "outputs": [
    {
     "data": {
      "text/html": [
       "<div>\n",
       "<style scoped>\n",
       "    .dataframe tbody tr th:only-of-type {\n",
       "        vertical-align: middle;\n",
       "    }\n",
       "\n",
       "    .dataframe tbody tr th {\n",
       "        vertical-align: top;\n",
       "    }\n",
       "\n",
       "    .dataframe thead th {\n",
       "        text-align: right;\n",
       "    }\n",
       "</style>\n",
       "<table border=\"1\" class=\"dataframe\">\n",
       "  <thead>\n",
       "    <tr style=\"text-align: right;\">\n",
       "      <th></th>\n",
       "      <th>Admission_Total</th>\n",
       "      <th>Mortality</th>\n",
       "      <th>U60_Mortality</th>\n",
       "      <th>O2_saturation</th>\n",
       "      <th>ICU_ADD</th>\n",
       "      <th>Non_invasive_ventialion</th>\n",
       "      <th>Inutabet_C19_Pt</th>\n",
       "      <th>Non-intubated_C19_PT</th>\n",
       "      <th>Free_Ventilators</th>\n",
       "      <th>Using_Ventialtors</th>\n",
       "      <th>Infected_paramedics</th>\n",
       "    </tr>\n",
       "    <tr>\n",
       "      <th>Date</th>\n",
       "      <th></th>\n",
       "      <th></th>\n",
       "      <th></th>\n",
       "      <th></th>\n",
       "      <th></th>\n",
       "      <th></th>\n",
       "      <th></th>\n",
       "      <th></th>\n",
       "      <th></th>\n",
       "      <th></th>\n",
       "      <th></th>\n",
       "    </tr>\n",
       "  </thead>\n",
       "  <tbody>\n",
       "    <tr>\n",
       "      <th>2020-10-23</th>\n",
       "      <td>186</td>\n",
       "      <td>9</td>\n",
       "      <td>4</td>\n",
       "      <td>75.3</td>\n",
       "      <td>12</td>\n",
       "      <td>20</td>\n",
       "      <td>16</td>\n",
       "      <td>21</td>\n",
       "      <td>19</td>\n",
       "      <td>27</td>\n",
       "      <td>25</td>\n",
       "    </tr>\n",
       "    <tr>\n",
       "      <th>2020-10-24</th>\n",
       "      <td>181</td>\n",
       "      <td>7</td>\n",
       "      <td>2</td>\n",
       "      <td>76.0</td>\n",
       "      <td>14</td>\n",
       "      <td>15</td>\n",
       "      <td>17</td>\n",
       "      <td>21</td>\n",
       "      <td>18</td>\n",
       "      <td>38</td>\n",
       "      <td>25</td>\n",
       "    </tr>\n",
       "    <tr>\n",
       "      <th>2020-10-25</th>\n",
       "      <td>201</td>\n",
       "      <td>8</td>\n",
       "      <td>4</td>\n",
       "      <td>75.0</td>\n",
       "      <td>17</td>\n",
       "      <td>23</td>\n",
       "      <td>17</td>\n",
       "      <td>20</td>\n",
       "      <td>18</td>\n",
       "      <td>37</td>\n",
       "      <td>25</td>\n",
       "    </tr>\n",
       "    <tr>\n",
       "      <th>2020-10-26</th>\n",
       "      <td>198</td>\n",
       "      <td>8</td>\n",
       "      <td>2</td>\n",
       "      <td>76.0</td>\n",
       "      <td>11</td>\n",
       "      <td>0</td>\n",
       "      <td>14</td>\n",
       "      <td>18</td>\n",
       "      <td>24</td>\n",
       "      <td>32</td>\n",
       "      <td>25</td>\n",
       "    </tr>\n",
       "    <tr>\n",
       "      <th>2020-10-27</th>\n",
       "      <td>208</td>\n",
       "      <td>8</td>\n",
       "      <td>1</td>\n",
       "      <td>75.2</td>\n",
       "      <td>7</td>\n",
       "      <td>20</td>\n",
       "      <td>12</td>\n",
       "      <td>34</td>\n",
       "      <td>9</td>\n",
       "      <td>20</td>\n",
       "      <td>25</td>\n",
       "    </tr>\n",
       "  </tbody>\n",
       "</table>\n",
       "</div>"
      ],
      "text/plain": [
       "            Admission_Total  Mortality  U60_Mortality  O2_saturation  ICU_ADD  \\\n",
       "Date                                                                            \n",
       "2020-10-23              186          9              4           75.3       12   \n",
       "2020-10-24              181          7              2           76.0       14   \n",
       "2020-10-25              201          8              4           75.0       17   \n",
       "2020-10-26              198          8              2           76.0       11   \n",
       "2020-10-27              208          8              1           75.2        7   \n",
       "\n",
       "            Non_invasive_ventialion   Inutabet_C19_Pt  Non-intubated_C19_PT  \\\n",
       "Date                                                                          \n",
       "2020-10-23                        20               16                    21   \n",
       "2020-10-24                        15               17                    21   \n",
       "2020-10-25                        23               17                    20   \n",
       "2020-10-26                         0               14                    18   \n",
       "2020-10-27                        20               12                    34   \n",
       "\n",
       "            Free_Ventilators  Using_Ventialtors  Infected_paramedics  \n",
       "Date                                                                  \n",
       "2020-10-23                19                 27                   25  \n",
       "2020-10-24                18                 38                   25  \n",
       "2020-10-25                18                 37                   25  \n",
       "2020-10-26                24                 32                   25  \n",
       "2020-10-27                 9                 20                   25  "
      ]
     },
     "execution_count": 245,
     "metadata": {},
     "output_type": "execute_result"
    }
   ],
   "source": [
    "df.head()"
   ]
  },
  {
   "cell_type": "code",
   "execution_count": 246,
   "id": "362f1285",
   "metadata": {},
   "outputs": [
    {
     "data": {
      "text/html": [
       "<div>\n",
       "<style scoped>\n",
       "    .dataframe tbody tr th:only-of-type {\n",
       "        vertical-align: middle;\n",
       "    }\n",
       "\n",
       "    .dataframe tbody tr th {\n",
       "        vertical-align: top;\n",
       "    }\n",
       "\n",
       "    .dataframe thead th {\n",
       "        text-align: right;\n",
       "    }\n",
       "</style>\n",
       "<table border=\"1\" class=\"dataframe\">\n",
       "  <thead>\n",
       "    <tr style=\"text-align: right;\">\n",
       "      <th></th>\n",
       "      <th>Admission_Total</th>\n",
       "      <th>Mortality</th>\n",
       "      <th>U60_Mortality</th>\n",
       "      <th>O2_saturation</th>\n",
       "      <th>ICU_ADD</th>\n",
       "      <th>Non_invasive_ventialion</th>\n",
       "      <th>Inutabet_C19_Pt</th>\n",
       "      <th>Non-intubated_C19_PT</th>\n",
       "      <th>Free_Ventilators</th>\n",
       "      <th>Using_Ventialtors</th>\n",
       "      <th>Infected_paramedics</th>\n",
       "    </tr>\n",
       "    <tr>\n",
       "      <th>Date</th>\n",
       "      <th></th>\n",
       "      <th></th>\n",
       "      <th></th>\n",
       "      <th></th>\n",
       "      <th></th>\n",
       "      <th></th>\n",
       "      <th></th>\n",
       "      <th></th>\n",
       "      <th></th>\n",
       "      <th></th>\n",
       "      <th></th>\n",
       "    </tr>\n",
       "  </thead>\n",
       "  <tbody>\n",
       "    <tr>\n",
       "      <th>2022-03-16</th>\n",
       "      <td>24</td>\n",
       "      <td>0</td>\n",
       "      <td>0</td>\n",
       "      <td>80.0</td>\n",
       "      <td>1</td>\n",
       "      <td>6</td>\n",
       "      <td>6</td>\n",
       "      <td>31</td>\n",
       "      <td>39</td>\n",
       "      <td>37</td>\n",
       "      <td>0</td>\n",
       "    </tr>\n",
       "    <tr>\n",
       "      <th>2022-03-17</th>\n",
       "      <td>25</td>\n",
       "      <td>0</td>\n",
       "      <td>0</td>\n",
       "      <td>80.0</td>\n",
       "      <td>2</td>\n",
       "      <td>5</td>\n",
       "      <td>6</td>\n",
       "      <td>37</td>\n",
       "      <td>38</td>\n",
       "      <td>43</td>\n",
       "      <td>0</td>\n",
       "    </tr>\n",
       "    <tr>\n",
       "      <th>2022-03-18</th>\n",
       "      <td>28</td>\n",
       "      <td>0</td>\n",
       "      <td>0</td>\n",
       "      <td>82.0</td>\n",
       "      <td>1</td>\n",
       "      <td>7</td>\n",
       "      <td>6</td>\n",
       "      <td>39</td>\n",
       "      <td>32</td>\n",
       "      <td>45</td>\n",
       "      <td>0</td>\n",
       "    </tr>\n",
       "    <tr>\n",
       "      <th>2022-03-19</th>\n",
       "      <td>26</td>\n",
       "      <td>2</td>\n",
       "      <td>0</td>\n",
       "      <td>84.0</td>\n",
       "      <td>0</td>\n",
       "      <td>7</td>\n",
       "      <td>6</td>\n",
       "      <td>37</td>\n",
       "      <td>36</td>\n",
       "      <td>43</td>\n",
       "      <td>0</td>\n",
       "    </tr>\n",
       "    <tr>\n",
       "      <th>2022-03-20</th>\n",
       "      <td>23</td>\n",
       "      <td>2</td>\n",
       "      <td>0</td>\n",
       "      <td>80.0</td>\n",
       "      <td>0</td>\n",
       "      <td>6</td>\n",
       "      <td>6</td>\n",
       "      <td>50</td>\n",
       "      <td>23</td>\n",
       "      <td>56</td>\n",
       "      <td>0</td>\n",
       "    </tr>\n",
       "  </tbody>\n",
       "</table>\n",
       "</div>"
      ],
      "text/plain": [
       "            Admission_Total  Mortality  U60_Mortality  O2_saturation  ICU_ADD  \\\n",
       "Date                                                                            \n",
       "2022-03-16               24          0              0           80.0        1   \n",
       "2022-03-17               25          0              0           80.0        2   \n",
       "2022-03-18               28          0              0           82.0        1   \n",
       "2022-03-19               26          2              0           84.0        0   \n",
       "2022-03-20               23          2              0           80.0        0   \n",
       "\n",
       "            Non_invasive_ventialion   Inutabet_C19_Pt  Non-intubated_C19_PT  \\\n",
       "Date                                                                          \n",
       "2022-03-16                         6                6                    31   \n",
       "2022-03-17                         5                6                    37   \n",
       "2022-03-18                         7                6                    39   \n",
       "2022-03-19                         7                6                    37   \n",
       "2022-03-20                         6                6                    50   \n",
       "\n",
       "            Free_Ventilators  Using_Ventialtors  Infected_paramedics  \n",
       "Date                                                                  \n",
       "2022-03-16                39                 37                    0  \n",
       "2022-03-17                38                 43                    0  \n",
       "2022-03-18                32                 45                    0  \n",
       "2022-03-19                36                 43                    0  \n",
       "2022-03-20                23                 56                    0  "
      ]
     },
     "execution_count": 246,
     "metadata": {},
     "output_type": "execute_result"
    }
   ],
   "source": [
    "df.tail()"
   ]
  },
  {
   "cell_type": "code",
   "execution_count": 247,
   "id": "f4c56bde",
   "metadata": {},
   "outputs": [
    {
     "data": {
      "text/plain": [
       "(514, 11)"
      ]
     },
     "execution_count": 247,
     "metadata": {},
     "output_type": "execute_result"
    }
   ],
   "source": [
    "df.shape"
   ]
  },
  {
   "cell_type": "code",
   "execution_count": 248,
   "id": "e35364d2",
   "metadata": {},
   "outputs": [
    {
     "data": {
      "text/plain": [
       "array(['Admission_Total', 'Mortality', 'U60_Mortality', 'O2_saturation',\n",
       "       'ICU_ADD', 'Non_invasive_ventialion ', 'Inutabet_C19_Pt',\n",
       "       'Non-intubated_C19_PT', 'Free_Ventilators', 'Using_Ventialtors',\n",
       "       'Infected_paramedics'], dtype=object)"
      ]
     },
     "execution_count": 248,
     "metadata": {},
     "output_type": "execute_result"
    }
   ],
   "source": [
    "df.columns.values"
   ]
  },
  {
   "cell_type": "code",
   "execution_count": 249,
   "id": "d184b72b",
   "metadata": {},
   "outputs": [
    {
     "name": "stdout",
     "output_type": "stream",
     "text": [
      "<class 'pandas.core.frame.DataFrame'>\n",
      "DatetimeIndex: 514 entries, 2020-10-23 to 2022-03-20\n",
      "Data columns (total 11 columns):\n",
      " #   Column                    Non-Null Count  Dtype  \n",
      "---  ------                    --------------  -----  \n",
      " 0   Admission_Total           514 non-null    int64  \n",
      " 1   Mortality                 514 non-null    int64  \n",
      " 2   U60_Mortality             514 non-null    int64  \n",
      " 3   O2_saturation             514 non-null    float64\n",
      " 4   ICU_ADD                   514 non-null    int64  \n",
      " 5   Non_invasive_ventialion   514 non-null    int64  \n",
      " 6   Inutabet_C19_Pt           514 non-null    int64  \n",
      " 7   Non-intubated_C19_PT      514 non-null    int64  \n",
      " 8   Free_Ventilators          514 non-null    int64  \n",
      " 9   Using_Ventialtors         514 non-null    int64  \n",
      " 10  Infected_paramedics       514 non-null    int64  \n",
      "dtypes: float64(1), int64(10)\n",
      "memory usage: 48.2 KB\n"
     ]
    }
   ],
   "source": [
    "df.info()"
   ]
  },
  {
   "cell_type": "code",
   "execution_count": 250,
   "id": "6673f3bc",
   "metadata": {},
   "outputs": [
    {
     "data": {
      "text/html": [
       "<div>\n",
       "<style scoped>\n",
       "    .dataframe tbody tr th:only-of-type {\n",
       "        vertical-align: middle;\n",
       "    }\n",
       "\n",
       "    .dataframe tbody tr th {\n",
       "        vertical-align: top;\n",
       "    }\n",
       "\n",
       "    .dataframe thead th {\n",
       "        text-align: right;\n",
       "    }\n",
       "</style>\n",
       "<table border=\"1\" class=\"dataframe\">\n",
       "  <thead>\n",
       "    <tr style=\"text-align: right;\">\n",
       "      <th></th>\n",
       "      <th>Admission_Total</th>\n",
       "      <th>Mortality</th>\n",
       "      <th>U60_Mortality</th>\n",
       "      <th>O2_saturation</th>\n",
       "      <th>ICU_ADD</th>\n",
       "      <th>Non_invasive_ventialion</th>\n",
       "      <th>Inutabet_C19_Pt</th>\n",
       "      <th>Non-intubated_C19_PT</th>\n",
       "      <th>Free_Ventilators</th>\n",
       "      <th>Using_Ventialtors</th>\n",
       "      <th>Infected_paramedics</th>\n",
       "    </tr>\n",
       "  </thead>\n",
       "  <tbody>\n",
       "    <tr>\n",
       "      <th>count</th>\n",
       "      <td>514.000000</td>\n",
       "      <td>514.000000</td>\n",
       "      <td>514.000000</td>\n",
       "      <td>514.000000</td>\n",
       "      <td>514.000000</td>\n",
       "      <td>514.000000</td>\n",
       "      <td>514.000000</td>\n",
       "      <td>514.000000</td>\n",
       "      <td>514.000000</td>\n",
       "      <td>514.000000</td>\n",
       "      <td>514.000000</td>\n",
       "    </tr>\n",
       "    <tr>\n",
       "      <th>mean</th>\n",
       "      <td>102.361868</td>\n",
       "      <td>2.698444</td>\n",
       "      <td>0.799611</td>\n",
       "      <td>81.961284</td>\n",
       "      <td>5.902724</td>\n",
       "      <td>13.756809</td>\n",
       "      <td>7.332685</td>\n",
       "      <td>26.066148</td>\n",
       "      <td>27.064202</td>\n",
       "      <td>33.229572</td>\n",
       "      <td>5.367704</td>\n",
       "    </tr>\n",
       "    <tr>\n",
       "      <th>std</th>\n",
       "      <td>84.547698</td>\n",
       "      <td>2.938041</td>\n",
       "      <td>2.768649</td>\n",
       "      <td>5.454737</td>\n",
       "      <td>8.857672</td>\n",
       "      <td>10.161906</td>\n",
       "      <td>5.347224</td>\n",
       "      <td>7.945201</td>\n",
       "      <td>12.227289</td>\n",
       "      <td>6.247481</td>\n",
       "      <td>8.265750</td>\n",
       "    </tr>\n",
       "    <tr>\n",
       "      <th>min</th>\n",
       "      <td>7.000000</td>\n",
       "      <td>0.000000</td>\n",
       "      <td>0.000000</td>\n",
       "      <td>60.000000</td>\n",
       "      <td>0.000000</td>\n",
       "      <td>0.000000</td>\n",
       "      <td>0.000000</td>\n",
       "      <td>0.000000</td>\n",
       "      <td>8.000000</td>\n",
       "      <td>10.000000</td>\n",
       "      <td>0.000000</td>\n",
       "    </tr>\n",
       "    <tr>\n",
       "      <th>25%</th>\n",
       "      <td>30.000000</td>\n",
       "      <td>0.000000</td>\n",
       "      <td>0.000000</td>\n",
       "      <td>80.000000</td>\n",
       "      <td>0.000000</td>\n",
       "      <td>6.000000</td>\n",
       "      <td>3.000000</td>\n",
       "      <td>21.000000</td>\n",
       "      <td>21.000000</td>\n",
       "      <td>29.000000</td>\n",
       "      <td>1.000000</td>\n",
       "    </tr>\n",
       "    <tr>\n",
       "      <th>50%</th>\n",
       "      <td>72.000000</td>\n",
       "      <td>2.000000</td>\n",
       "      <td>0.000000</td>\n",
       "      <td>81.000000</td>\n",
       "      <td>1.000000</td>\n",
       "      <td>10.000000</td>\n",
       "      <td>6.000000</td>\n",
       "      <td>25.000000</td>\n",
       "      <td>25.000000</td>\n",
       "      <td>33.000000</td>\n",
       "      <td>2.000000</td>\n",
       "    </tr>\n",
       "    <tr>\n",
       "      <th>75%</th>\n",
       "      <td>173.000000</td>\n",
       "      <td>4.000000</td>\n",
       "      <td>1.000000</td>\n",
       "      <td>85.000000</td>\n",
       "      <td>9.000000</td>\n",
       "      <td>21.000000</td>\n",
       "      <td>11.000000</td>\n",
       "      <td>31.000000</td>\n",
       "      <td>31.000000</td>\n",
       "      <td>37.000000</td>\n",
       "      <td>6.000000</td>\n",
       "    </tr>\n",
       "    <tr>\n",
       "      <th>max</th>\n",
       "      <td>333.000000</td>\n",
       "      <td>18.000000</td>\n",
       "      <td>58.000000</td>\n",
       "      <td>93.300000</td>\n",
       "      <td>47.000000</td>\n",
       "      <td>43.000000</td>\n",
       "      <td>25.000000</td>\n",
       "      <td>50.000000</td>\n",
       "      <td>214.000000</td>\n",
       "      <td>56.000000</td>\n",
       "      <td>55.000000</td>\n",
       "    </tr>\n",
       "  </tbody>\n",
       "</table>\n",
       "</div>"
      ],
      "text/plain": [
       "       Admission_Total   Mortality  U60_Mortality  O2_saturation     ICU_ADD  \\\n",
       "count       514.000000  514.000000     514.000000     514.000000  514.000000   \n",
       "mean        102.361868    2.698444       0.799611      81.961284    5.902724   \n",
       "std          84.547698    2.938041       2.768649       5.454737    8.857672   \n",
       "min           7.000000    0.000000       0.000000      60.000000    0.000000   \n",
       "25%          30.000000    0.000000       0.000000      80.000000    0.000000   \n",
       "50%          72.000000    2.000000       0.000000      81.000000    1.000000   \n",
       "75%         173.000000    4.000000       1.000000      85.000000    9.000000   \n",
       "max         333.000000   18.000000      58.000000      93.300000   47.000000   \n",
       "\n",
       "       Non_invasive_ventialion   Inutabet_C19_Pt  Non-intubated_C19_PT  \\\n",
       "count                514.000000       514.000000            514.000000   \n",
       "mean                  13.756809         7.332685             26.066148   \n",
       "std                   10.161906         5.347224              7.945201   \n",
       "min                    0.000000         0.000000              0.000000   \n",
       "25%                    6.000000         3.000000             21.000000   \n",
       "50%                   10.000000         6.000000             25.000000   \n",
       "75%                   21.000000        11.000000             31.000000   \n",
       "max                   43.000000        25.000000             50.000000   \n",
       "\n",
       "       Free_Ventilators  Using_Ventialtors  Infected_paramedics  \n",
       "count        514.000000         514.000000           514.000000  \n",
       "mean          27.064202          33.229572             5.367704  \n",
       "std           12.227289           6.247481             8.265750  \n",
       "min            8.000000          10.000000             0.000000  \n",
       "25%           21.000000          29.000000             1.000000  \n",
       "50%           25.000000          33.000000             2.000000  \n",
       "75%           31.000000          37.000000             6.000000  \n",
       "max          214.000000          56.000000            55.000000  "
      ]
     },
     "execution_count": 250,
     "metadata": {},
     "output_type": "execute_result"
    }
   ],
   "source": [
    "df.describe()"
   ]
  },
  {
   "cell_type": "code",
   "execution_count": 251,
   "id": "276134cb",
   "metadata": {},
   "outputs": [],
   "source": [
    "def miss_data(x):\n",
    "    total = x.isnull().sum()\n",
    "    percent = (x.isnull().sum()/x.isnull().count()*100)\n",
    "    tt = pd.concat([total, percent], axis=1, keys=['Total', 'Percent'])\n",
    "    types = []\n",
    "    for col in df.columns:\n",
    "        dtype = str(x[col].dtype)\n",
    "        types.append(dtype)\n",
    "    tt['Types'] = types\n",
    "    return(np.transpose(tt))"
   ]
  },
  {
   "cell_type": "code",
   "execution_count": 252,
   "id": "7f831d45",
   "metadata": {},
   "outputs": [
    {
     "data": {
      "text/html": [
       "<div>\n",
       "<style scoped>\n",
       "    .dataframe tbody tr th:only-of-type {\n",
       "        vertical-align: middle;\n",
       "    }\n",
       "\n",
       "    .dataframe tbody tr th {\n",
       "        vertical-align: top;\n",
       "    }\n",
       "\n",
       "    .dataframe thead th {\n",
       "        text-align: right;\n",
       "    }\n",
       "</style>\n",
       "<table border=\"1\" class=\"dataframe\">\n",
       "  <thead>\n",
       "    <tr style=\"text-align: right;\">\n",
       "      <th></th>\n",
       "      <th>Admission_Total</th>\n",
       "      <th>Mortality</th>\n",
       "      <th>U60_Mortality</th>\n",
       "      <th>O2_saturation</th>\n",
       "      <th>ICU_ADD</th>\n",
       "      <th>Non_invasive_ventialion</th>\n",
       "      <th>Inutabet_C19_Pt</th>\n",
       "      <th>Non-intubated_C19_PT</th>\n",
       "      <th>Free_Ventilators</th>\n",
       "      <th>Using_Ventialtors</th>\n",
       "      <th>Infected_paramedics</th>\n",
       "    </tr>\n",
       "  </thead>\n",
       "  <tbody>\n",
       "    <tr>\n",
       "      <th>Total</th>\n",
       "      <td>0</td>\n",
       "      <td>0</td>\n",
       "      <td>0</td>\n",
       "      <td>0</td>\n",
       "      <td>0</td>\n",
       "      <td>0</td>\n",
       "      <td>0</td>\n",
       "      <td>0</td>\n",
       "      <td>0</td>\n",
       "      <td>0</td>\n",
       "      <td>0</td>\n",
       "    </tr>\n",
       "    <tr>\n",
       "      <th>Percent</th>\n",
       "      <td>0.0</td>\n",
       "      <td>0.0</td>\n",
       "      <td>0.0</td>\n",
       "      <td>0.0</td>\n",
       "      <td>0.0</td>\n",
       "      <td>0.0</td>\n",
       "      <td>0.0</td>\n",
       "      <td>0.0</td>\n",
       "      <td>0.0</td>\n",
       "      <td>0.0</td>\n",
       "      <td>0.0</td>\n",
       "    </tr>\n",
       "    <tr>\n",
       "      <th>Types</th>\n",
       "      <td>int64</td>\n",
       "      <td>int64</td>\n",
       "      <td>int64</td>\n",
       "      <td>float64</td>\n",
       "      <td>int64</td>\n",
       "      <td>int64</td>\n",
       "      <td>int64</td>\n",
       "      <td>int64</td>\n",
       "      <td>int64</td>\n",
       "      <td>int64</td>\n",
       "      <td>int64</td>\n",
       "    </tr>\n",
       "  </tbody>\n",
       "</table>\n",
       "</div>"
      ],
      "text/plain": [
       "        Admission_Total Mortality U60_Mortality O2_saturation ICU_ADD  \\\n",
       "Total                 0         0             0             0       0   \n",
       "Percent             0.0       0.0           0.0           0.0     0.0   \n",
       "Types             int64     int64         int64       float64   int64   \n",
       "\n",
       "        Non_invasive_ventialion  Inutabet_C19_Pt Non-intubated_C19_PT  \\\n",
       "Total                          0               0                    0   \n",
       "Percent                      0.0             0.0                  0.0   \n",
       "Types                      int64           int64                int64   \n",
       "\n",
       "        Free_Ventilators Using_Ventialtors Infected_paramedics  \n",
       "Total                  0                 0                   0  \n",
       "Percent              0.0               0.0                 0.0  \n",
       "Types              int64             int64               int64  "
      ]
     },
     "execution_count": 252,
     "metadata": {},
     "output_type": "execute_result"
    }
   ],
   "source": [
    "miss_data(df)"
   ]
  },
  {
   "cell_type": "code",
   "execution_count": 253,
   "id": "16ea9400",
   "metadata": {},
   "outputs": [],
   "source": [
    "for x in df.columns:\n",
    "    if df[x].dtype=='int64' or  df[x].dtype=='float64':\n",
    "        df[x].fillna(df[x].mean())\n",
    "\n",
    "df = df.fillna(-999)\n",
    "\n",
    "for y in df.columns:\n",
    "    if df[y].dtype=='object': \n",
    "        lbl = LabelEncoder()\n",
    "        lbl.fit(list(df[y].values))\n",
    "        df[y] = lbl.transform(list(df[y].values))"
   ]
  },
  {
   "cell_type": "code",
   "execution_count": 254,
   "id": "11c404d7",
   "metadata": {},
   "outputs": [
    {
     "data": {
      "text/html": [
       "<div>\n",
       "<style scoped>\n",
       "    .dataframe tbody tr th:only-of-type {\n",
       "        vertical-align: middle;\n",
       "    }\n",
       "\n",
       "    .dataframe tbody tr th {\n",
       "        vertical-align: top;\n",
       "    }\n",
       "\n",
       "    .dataframe thead th {\n",
       "        text-align: right;\n",
       "    }\n",
       "</style>\n",
       "<table border=\"1\" class=\"dataframe\">\n",
       "  <thead>\n",
       "    <tr style=\"text-align: right;\">\n",
       "      <th></th>\n",
       "      <th>Admission_Total</th>\n",
       "      <th>Mortality</th>\n",
       "      <th>U60_Mortality</th>\n",
       "      <th>O2_saturation</th>\n",
       "      <th>ICU_ADD</th>\n",
       "      <th>Non_invasive_ventialion</th>\n",
       "      <th>Inutabet_C19_Pt</th>\n",
       "      <th>Non-intubated_C19_PT</th>\n",
       "      <th>Free_Ventilators</th>\n",
       "      <th>Using_Ventialtors</th>\n",
       "      <th>Infected_paramedics</th>\n",
       "    </tr>\n",
       "  </thead>\n",
       "  <tbody>\n",
       "    <tr>\n",
       "      <th>Admission_Total</th>\n",
       "      <td>1.000000</td>\n",
       "      <td>0.711889</td>\n",
       "      <td>0.193374</td>\n",
       "      <td>0.570171</td>\n",
       "      <td>0.859985</td>\n",
       "      <td>0.872307</td>\n",
       "      <td>0.795409</td>\n",
       "      <td>0.635542</td>\n",
       "      <td>0.186492</td>\n",
       "      <td>0.136633</td>\n",
       "      <td>0.468613</td>\n",
       "    </tr>\n",
       "    <tr>\n",
       "      <th>Mortality</th>\n",
       "      <td>0.711889</td>\n",
       "      <td>1.000000</td>\n",
       "      <td>0.276289</td>\n",
       "      <td>0.507063</td>\n",
       "      <td>0.601474</td>\n",
       "      <td>0.628571</td>\n",
       "      <td>0.648380</td>\n",
       "      <td>0.522061</td>\n",
       "      <td>0.151882</td>\n",
       "      <td>0.128439</td>\n",
       "      <td>0.354784</td>\n",
       "    </tr>\n",
       "    <tr>\n",
       "      <th>U60_Mortality</th>\n",
       "      <td>0.193374</td>\n",
       "      <td>0.276289</td>\n",
       "      <td>1.000000</td>\n",
       "      <td>0.146382</td>\n",
       "      <td>0.189257</td>\n",
       "      <td>0.165380</td>\n",
       "      <td>0.181476</td>\n",
       "      <td>0.130547</td>\n",
       "      <td>0.042230</td>\n",
       "      <td>0.022466</td>\n",
       "      <td>0.095390</td>\n",
       "    </tr>\n",
       "    <tr>\n",
       "      <th>O2_saturation</th>\n",
       "      <td>0.570171</td>\n",
       "      <td>0.507063</td>\n",
       "      <td>0.146382</td>\n",
       "      <td>1.000000</td>\n",
       "      <td>0.383016</td>\n",
       "      <td>0.497883</td>\n",
       "      <td>0.577161</td>\n",
       "      <td>0.250193</td>\n",
       "      <td>0.023059</td>\n",
       "      <td>0.163494</td>\n",
       "      <td>0.303749</td>\n",
       "    </tr>\n",
       "    <tr>\n",
       "      <th>ICU_ADD</th>\n",
       "      <td>0.859985</td>\n",
       "      <td>0.601474</td>\n",
       "      <td>0.189257</td>\n",
       "      <td>0.383016</td>\n",
       "      <td>1.000000</td>\n",
       "      <td>0.762998</td>\n",
       "      <td>0.678156</td>\n",
       "      <td>0.461118</td>\n",
       "      <td>0.144973</td>\n",
       "      <td>0.018688</td>\n",
       "      <td>0.400442</td>\n",
       "    </tr>\n",
       "  </tbody>\n",
       "</table>\n",
       "</div>"
      ],
      "text/plain": [
       "                 Admission_Total  Mortality  U60_Mortality  O2_saturation  \\\n",
       "Admission_Total         1.000000   0.711889       0.193374       0.570171   \n",
       "Mortality               0.711889   1.000000       0.276289       0.507063   \n",
       "U60_Mortality           0.193374   0.276289       1.000000       0.146382   \n",
       "O2_saturation           0.570171   0.507063       0.146382       1.000000   \n",
       "ICU_ADD                 0.859985   0.601474       0.189257       0.383016   \n",
       "\n",
       "                  ICU_ADD  Non_invasive_ventialion   Inutabet_C19_Pt  \\\n",
       "Admission_Total  0.859985                  0.872307         0.795409   \n",
       "Mortality        0.601474                  0.628571         0.648380   \n",
       "U60_Mortality    0.189257                  0.165380         0.181476   \n",
       "O2_saturation    0.383016                  0.497883         0.577161   \n",
       "ICU_ADD          1.000000                  0.762998         0.678156   \n",
       "\n",
       "                 Non-intubated_C19_PT  Free_Ventilators  Using_Ventialtors  \\\n",
       "Admission_Total              0.635542          0.186492           0.136633   \n",
       "Mortality                    0.522061          0.151882           0.128439   \n",
       "U60_Mortality                0.130547          0.042230           0.022466   \n",
       "O2_saturation                0.250193          0.023059           0.163494   \n",
       "ICU_ADD                      0.461118          0.144973           0.018688   \n",
       "\n",
       "                 Infected_paramedics  \n",
       "Admission_Total             0.468613  \n",
       "Mortality                   0.354784  \n",
       "U60_Mortality               0.095390  \n",
       "O2_saturation               0.303749  \n",
       "ICU_ADD                     0.400442  "
      ]
     },
     "execution_count": 254,
     "metadata": {},
     "output_type": "execute_result"
    }
   ],
   "source": [
    "threshold = 0.92\n",
    "corr_matrix = df.corr().abs()\n",
    "corr_matrix.head()"
   ]
  },
  {
   "cell_type": "code",
   "execution_count": 255,
   "id": "4c015345",
   "metadata": {},
   "outputs": [
    {
     "data": {
      "text/html": [
       "<div>\n",
       "<style scoped>\n",
       "    .dataframe tbody tr th:only-of-type {\n",
       "        vertical-align: middle;\n",
       "    }\n",
       "\n",
       "    .dataframe tbody tr th {\n",
       "        vertical-align: top;\n",
       "    }\n",
       "\n",
       "    .dataframe thead th {\n",
       "        text-align: right;\n",
       "    }\n",
       "</style>\n",
       "<table border=\"1\" class=\"dataframe\">\n",
       "  <thead>\n",
       "    <tr style=\"text-align: right;\">\n",
       "      <th></th>\n",
       "      <th>Admission_Total</th>\n",
       "      <th>Mortality</th>\n",
       "      <th>U60_Mortality</th>\n",
       "      <th>O2_saturation</th>\n",
       "      <th>ICU_ADD</th>\n",
       "      <th>Non_invasive_ventialion</th>\n",
       "      <th>Inutabet_C19_Pt</th>\n",
       "      <th>Non-intubated_C19_PT</th>\n",
       "      <th>Free_Ventilators</th>\n",
       "      <th>Using_Ventialtors</th>\n",
       "      <th>Infected_paramedics</th>\n",
       "    </tr>\n",
       "  </thead>\n",
       "  <tbody>\n",
       "    <tr>\n",
       "      <th>Admission_Total</th>\n",
       "      <td>NaN</td>\n",
       "      <td>0.711889</td>\n",
       "      <td>0.193374</td>\n",
       "      <td>0.570171</td>\n",
       "      <td>0.859985</td>\n",
       "      <td>0.872307</td>\n",
       "      <td>0.795409</td>\n",
       "      <td>0.635542</td>\n",
       "      <td>0.186492</td>\n",
       "      <td>0.136633</td>\n",
       "      <td>0.468613</td>\n",
       "    </tr>\n",
       "    <tr>\n",
       "      <th>Mortality</th>\n",
       "      <td>NaN</td>\n",
       "      <td>NaN</td>\n",
       "      <td>0.276289</td>\n",
       "      <td>0.507063</td>\n",
       "      <td>0.601474</td>\n",
       "      <td>0.628571</td>\n",
       "      <td>0.648380</td>\n",
       "      <td>0.522061</td>\n",
       "      <td>0.151882</td>\n",
       "      <td>0.128439</td>\n",
       "      <td>0.354784</td>\n",
       "    </tr>\n",
       "    <tr>\n",
       "      <th>U60_Mortality</th>\n",
       "      <td>NaN</td>\n",
       "      <td>NaN</td>\n",
       "      <td>NaN</td>\n",
       "      <td>0.146382</td>\n",
       "      <td>0.189257</td>\n",
       "      <td>0.165380</td>\n",
       "      <td>0.181476</td>\n",
       "      <td>0.130547</td>\n",
       "      <td>0.042230</td>\n",
       "      <td>0.022466</td>\n",
       "      <td>0.095390</td>\n",
       "    </tr>\n",
       "    <tr>\n",
       "      <th>O2_saturation</th>\n",
       "      <td>NaN</td>\n",
       "      <td>NaN</td>\n",
       "      <td>NaN</td>\n",
       "      <td>NaN</td>\n",
       "      <td>0.383016</td>\n",
       "      <td>0.497883</td>\n",
       "      <td>0.577161</td>\n",
       "      <td>0.250193</td>\n",
       "      <td>0.023059</td>\n",
       "      <td>0.163494</td>\n",
       "      <td>0.303749</td>\n",
       "    </tr>\n",
       "    <tr>\n",
       "      <th>ICU_ADD</th>\n",
       "      <td>NaN</td>\n",
       "      <td>NaN</td>\n",
       "      <td>NaN</td>\n",
       "      <td>NaN</td>\n",
       "      <td>NaN</td>\n",
       "      <td>0.762998</td>\n",
       "      <td>0.678156</td>\n",
       "      <td>0.461118</td>\n",
       "      <td>0.144973</td>\n",
       "      <td>0.018688</td>\n",
       "      <td>0.400442</td>\n",
       "    </tr>\n",
       "  </tbody>\n",
       "</table>\n",
       "</div>"
      ],
      "text/plain": [
       "                 Admission_Total  Mortality  U60_Mortality  O2_saturation  \\\n",
       "Admission_Total              NaN   0.711889       0.193374       0.570171   \n",
       "Mortality                    NaN        NaN       0.276289       0.507063   \n",
       "U60_Mortality                NaN        NaN            NaN       0.146382   \n",
       "O2_saturation                NaN        NaN            NaN            NaN   \n",
       "ICU_ADD                      NaN        NaN            NaN            NaN   \n",
       "\n",
       "                  ICU_ADD  Non_invasive_ventialion   Inutabet_C19_Pt  \\\n",
       "Admission_Total  0.859985                  0.872307         0.795409   \n",
       "Mortality        0.601474                  0.628571         0.648380   \n",
       "U60_Mortality    0.189257                  0.165380         0.181476   \n",
       "O2_saturation    0.383016                  0.497883         0.577161   \n",
       "ICU_ADD               NaN                  0.762998         0.678156   \n",
       "\n",
       "                 Non-intubated_C19_PT  Free_Ventilators  Using_Ventialtors  \\\n",
       "Admission_Total              0.635542          0.186492           0.136633   \n",
       "Mortality                    0.522061          0.151882           0.128439   \n",
       "U60_Mortality                0.130547          0.042230           0.022466   \n",
       "O2_saturation                0.250193          0.023059           0.163494   \n",
       "ICU_ADD                      0.461118          0.144973           0.018688   \n",
       "\n",
       "                 Infected_paramedics  \n",
       "Admission_Total             0.468613  \n",
       "Mortality                   0.354784  \n",
       "U60_Mortality               0.095390  \n",
       "O2_saturation               0.303749  \n",
       "ICU_ADD                     0.400442  "
      ]
     },
     "execution_count": 255,
     "metadata": {},
     "output_type": "execute_result"
    }
   ],
   "source": [
    "upper = corr_matrix.where(np.triu(np.ones(corr_matrix.shape), k=1).astype(np.bool))\n",
    "upper.head()"
   ]
  },
  {
   "cell_type": "code",
   "execution_count": 256,
   "id": "ec3f42f6",
   "metadata": {},
   "outputs": [
    {
     "name": "stdout",
     "output_type": "stream",
     "text": [
      "There are 0 columns to remove.\n",
      "Data shape:  (514, 11)\n",
      "Size of the data (514, 11)\n"
     ]
    }
   ],
   "source": [
    "to_drop = [column for column in upper.columns if any(upper[column] > threshold)]\n",
    "\n",
    "print('There are %d columns to remove.' % (len(to_drop)))\n",
    "df = df.drop(columns = to_drop)\n",
    "print('Data shape: ', df.shape)\n",
    "print('Size of the data', df.shape)"
   ]
  },
  {
   "cell_type": "code",
   "execution_count": 257,
   "id": "ece22a2f",
   "metadata": {},
   "outputs": [],
   "source": [
    "X = df.drop(['Admission_Total'], axis=1)\n",
    "y = df['Admission_Total']"
   ]
  },
  {
   "cell_type": "code",
   "execution_count": 258,
   "id": "52628f09",
   "metadata": {},
   "outputs": [],
   "source": [
    "# Split 30% for test\n",
    "X_train, X_test, y_train, y_test = train_test_split(X,y, test_size=0.30)"
   ]
  },
  {
   "cell_type": "code",
   "execution_count": 259,
   "id": "1210ca16",
   "metadata": {},
   "outputs": [
    {
     "name": "stdout",
     "output_type": "stream",
     "text": [
      "(359, 10) (155, 10) (359,) (155,)\n"
     ]
    }
   ],
   "source": [
    "print(X_train.shape, X_test.shape, y_train.shape, y_test.shape)"
   ]
  },
  {
   "cell_type": "code",
   "execution_count": 260,
   "id": "5c8a4b1b",
   "metadata": {},
   "outputs": [],
   "source": [
    "resultsDict = {}\n",
    "predictionsDict = {}"
   ]
  },
  {
   "cell_type": "code",
   "execution_count": 261,
   "id": "3db60358",
   "metadata": {},
   "outputs": [],
   "source": [
    "cols = X_train.columns\n",
    "scaler = MinMaxScaler(feature_range=(0, 1))\n",
    "t_X_train = scaler.fit_transform(X_train)\n",
    "t_X_test = scaler.transform(X_test)\n",
    "X_train = pd.DataFrame(t_X_train, columns=[cols])\n",
    "X_test = pd.DataFrame(t_X_test, columns=[cols])\n"
   ]
  },
  {
   "cell_type": "markdown",
   "id": "14829e44",
   "metadata": {},
   "source": [
    "### Bayesian regression"
   ]
  },
  {
   "cell_type": "code",
   "execution_count": 262,
   "id": "647811d3",
   "metadata": {},
   "outputs": [
    {
     "name": "stdout",
     "output_type": "stream",
     "text": [
      "Mean squared error: 657.64\n"
     ]
    }
   ],
   "source": [
    "reg = linear_model.BayesianRidge()\n",
    "reg.fit(X_train, y_train)\n",
    "yhat = reg.predict(X_test)\n",
    "resultsDict['BayesianRidge'] = evaluate(y_test, yhat)\n",
    "predictionsDict['BayesianRidge'] = yhat\n",
    "print(\"Mean squared error: %.2f\" % np.mean((yhat - y_test) ** 2))\n"
   ]
  },
  {
   "cell_type": "markdown",
   "id": "efd91ac1",
   "metadata": {},
   "source": [
    "### Lesso"
   ]
  },
  {
   "cell_type": "code",
   "execution_count": 263,
   "id": "8ed8cd37",
   "metadata": {},
   "outputs": [
    {
     "name": "stdout",
     "output_type": "stream",
     "text": [
      "Mean squared error: 669.65\n"
     ]
    }
   ],
   "source": [
    "reg = linear_model.Lasso(alpha=0.1)\n",
    "reg.fit(X_train, y_train)\n",
    "yhat = reg.predict(X_test)\n",
    "resultsDict['Lasso'] = evaluate(y_test, yhat)\n",
    "predictionsDict['Lasso'] = yhat\n",
    "print(\"Mean squared error: %.2f\" % np.mean((yhat - y_test) ** 2))"
   ]
  },
  {
   "cell_type": "markdown",
   "id": "7e373556",
   "metadata": {},
   "source": [
    "### Random Forest"
   ]
  },
  {
   "cell_type": "code",
   "execution_count": 264,
   "id": "3a314d73",
   "metadata": {},
   "outputs": [
    {
     "name": "stdout",
     "output_type": "stream",
     "text": [
      "Mean squared error: 321.14\n"
     ]
    }
   ],
   "source": [
    "reg = RandomForestRegressor(n_estimators=100,random_state=137)\n",
    "reg.fit(X_train, y_train)\n",
    "yhat = reg.predict(X_test)\n",
    "resultsDict['RandomForest'] = evaluate(y_test, yhat)\n",
    "predictionsDict['RandomForest'] = yhat\n",
    "print(\"Mean squared error: %.2f\" % np.mean((yhat - y_test) ** 2))"
   ]
  },
  {
   "cell_type": "markdown",
   "id": "0a08f2e2",
   "metadata": {},
   "source": [
    "###  XGBoost"
   ]
  },
  {
   "cell_type": "code",
   "execution_count": 265,
   "id": "03cb050d",
   "metadata": {},
   "outputs": [
    {
     "name": "stdout",
     "output_type": "stream",
     "text": [
      "Mean squared error: 430.83\n"
     ]
    }
   ],
   "source": [
    "reg = xgb.XGBRegressor(objective='reg:squarederror', n_estimators=1000)\n",
    "reg.fit(X_train, y_train,verbose=False)  # Change verbose to True if you want to see it train\n",
    "yhat = reg.predict(X_test)\n",
    "resultsDict['XGBoost'] = evaluate(y_test, yhat)\n",
    "predictionsDict['XGBoost'] = yhat\n",
    "print(\"Mean squared error: %.2f\" % np.mean((yhat - y_test) ** 2))"
   ]
  },
  {
   "cell_type": "markdown",
   "id": "85baa2e3",
   "metadata": {},
   "source": [
    "### Support vector machines"
   ]
  },
  {
   "cell_type": "code",
   "execution_count": 266,
   "id": "2bc0cf65",
   "metadata": {},
   "outputs": [
    {
     "name": "stdout",
     "output_type": "stream",
     "text": [
      "Mean squared error: 661.79\n"
     ]
    }
   ],
   "source": [
    "reg = svm.SVR(kernel='rbf', C=100, gamma=0.1, epsilon=.1)\n",
    "reg.fit(X_train, y_train)\n",
    "yhat = reg.predict(X_test)\n",
    "resultsDict['SVM RBF'] = evaluate(y_test, yhat)\n",
    "predictionsDict['SVM RBF'] = yhat\n",
    "print(\"Mean squared error: %.2f\" % np.mean((yhat - y_test) ** 2))"
   ]
  },
  {
   "cell_type": "markdown",
   "id": "6848a1d4",
   "metadata": {},
   "source": [
    "### Nearest neighbors"
   ]
  },
  {
   "cell_type": "code",
   "execution_count": 267,
   "id": "c160ee8f",
   "metadata": {},
   "outputs": [
    {
     "name": "stdout",
     "output_type": "stream",
     "text": [
      "Mean squared error: 490.08\n"
     ]
    }
   ],
   "source": [
    "reg = neighbors.KNeighborsRegressor(10, weights='distance', metric='euclidean')\n",
    "reg.fit(X_train, y_train)\n",
    "yhat = reg.predict(X_test)\n",
    "resultsDict['KNN'] = evaluate(y_test, yhat)\n",
    "predictionsDict['KNNF'] = yhat\n",
    "print(\"Mean squared error: %.2f\" % np.mean((yhat - y_test) ** 2))"
   ]
  },
  {
   "cell_type": "markdown",
   "id": "ddcc044a",
   "metadata": {},
   "source": [
    "### LinearRegression"
   ]
  },
  {
   "cell_type": "code",
   "execution_count": 268,
   "id": "7373afab",
   "metadata": {},
   "outputs": [
    {
     "name": "stdout",
     "output_type": "stream",
     "text": [
      "Mean squared error: 654.23\n"
     ]
    }
   ],
   "source": [
    "reg = linear_model.LinearRegression(normalize=False)\n",
    "reg.fit(X_train, y_train)\n",
    "yhat = reg.predict(X_test)\n",
    "resultsDict['LinearRegression'] = evaluate(y_test, yhat)\n",
    "predictionsDict['LinearRegression'] = yhat\n",
    "print(\"Mean squared error: %.2f\" % np.mean((yhat - y_test) ** 2))"
   ]
  },
  {
   "cell_type": "markdown",
   "id": "c4eb2aed",
   "metadata": {},
   "source": [
    "### MLP"
   ]
  },
  {
   "cell_type": "code",
   "execution_count": 269,
   "id": "43c21c30",
   "metadata": {},
   "outputs": [
    {
     "name": "stdout",
     "output_type": "stream",
     "text": [
      "Mean squared error: 376.79\n"
     ]
    }
   ],
   "source": [
    "reg = MLPRegressor(hidden_layer_sizes=(75, 25), learning_rate='adaptive', verbose=True,\n",
    "                   activation='relu', solver='lbfgs', max_iter=500)\n",
    "\n",
    "reg.fit(X_train, y_train)\n",
    "yhat = reg.predict(X_test)\n",
    "resultsDict['MLP'] = evaluate(y_test, yhat)\n",
    "predictionsDict['MLP'] = yhat\n",
    "print(\"Mean squared error: %.2f\" % np.mean((yhat - y_test) ** 2))"
   ]
  },
  {
   "cell_type": "markdown",
   "id": "87208fff",
   "metadata": {},
   "source": [
    "### DecisionTreeClassifier"
   ]
  },
  {
   "cell_type": "code",
   "execution_count": 270,
   "id": "11ba8684",
   "metadata": {},
   "outputs": [
    {
     "name": "stdout",
     "output_type": "stream",
     "text": [
      "Mean squared error: 1150.75\n"
     ]
    }
   ],
   "source": [
    "reg = DecisionTreeClassifier()\n",
    "reg.fit(X_train, y_train)\n",
    "yhat = reg.predict(X_test)\n",
    "resultsDict['DecisionTreeClassifier'] = evaluate(y_test, yhat)\n",
    "predictionsDict['DecisionTreeClassifier'] = yhat\n",
    "print(\"Mean squared error: %.2f\" % np.mean((yhat - y_test) ** 2))"
   ]
  },
  {
   "cell_type": "markdown",
   "id": "931f240d",
   "metadata": {},
   "source": [
    "### Linear Discriminant Analyser Model\n"
   ]
  },
  {
   "cell_type": "code",
   "execution_count": 271,
   "id": "7275d1bc",
   "metadata": {},
   "outputs": [
    {
     "name": "stdout",
     "output_type": "stream",
     "text": [
      "Mean squared error: 745.31\n"
     ]
    }
   ],
   "source": [
    "reg = LinearDiscriminantAnalysis()\n",
    "reg.fit(X_train, y_train)\n",
    "yhat = reg.predict(X_test)\n",
    "resultsDict['LDA'] = evaluate(y_test, yhat)\n",
    "predictionsDict['LDA'] = yhat\n",
    "print(\"Mean squared error: %.2f\" % np.mean((yhat - y_test) ** 2))"
   ]
  },
  {
   "cell_type": "markdown",
   "id": "92fd584d",
   "metadata": {},
   "source": [
    "###  Grid search - SVM"
   ]
  },
  {
   "cell_type": "code",
   "execution_count": 272,
   "id": "be2707ff",
   "metadata": {},
   "outputs": [
    {
     "name": "stdout",
     "output_type": "stream",
     "text": [
      "Mean squared error: 463.65\n"
     ]
    }
   ],
   "source": [
    "reg = GridSearchCV(svm.SVR(kernel='rbf', gamma=0.1),\n",
    "                   param_grid={\"C\": [1e0, 1e1, 1e2, 1e3],\n",
    "                               \"gamma\": np.logspace(-2, 2, 5)})\n",
    "reg.fit(X_train, y_train)\n",
    "yhat = reg.predict(X_test)\n",
    "resultsDict['SVM RBF GRID SEARCH'] = evaluate(y_test, yhat)\n",
    "predictionsDict['SVM RBF GRID SEARCH'] = yhat\n",
    "print(\"Mean squared error: %.2f\" % np.mean((yhat - y_test) ** 2))"
   ]
  },
  {
   "cell_type": "markdown",
   "id": "4bf64029",
   "metadata": {},
   "source": [
    "### LSTM"
   ]
  },
  {
   "cell_type": "code",
   "execution_count": 278,
   "id": "0fafd219",
   "metadata": {},
   "outputs": [
    {
     "data": {
      "text/plain": [
       "360"
      ]
     },
     "execution_count": 278,
     "metadata": {},
     "output_type": "execute_result"
    }
   ],
   "source": [
    "# Create a new dataframe with only the 'Close column \n",
    "data = df.filter(['Admission_Total'])\n",
    "# Convert the dataframe to a numpy array\n",
    "dataset = data.values\n",
    "# Get the number of rows to train the model on\n",
    "training_data_len = int(np.ceil( len(dataset) * .7 ))\n",
    "\n",
    "training_data_len"
   ]
  },
  {
   "cell_type": "code",
   "execution_count": 279,
   "id": "8ef5a1b5",
   "metadata": {},
   "outputs": [
    {
     "data": {
      "text/plain": [
       "(514, 1)"
      ]
     },
     "execution_count": 279,
     "metadata": {},
     "output_type": "execute_result"
    }
   ],
   "source": [
    "# Scale the data\n",
    "from sklearn.preprocessing import MinMaxScaler\n",
    "\n",
    "scaler = MinMaxScaler(feature_range=(0,1))\n",
    "scaled_data = scaler.fit_transform(dataset)\n",
    "\n",
    "scaled_data.shape"
   ]
  },
  {
   "cell_type": "code",
   "execution_count": 280,
   "id": "3acd7f59",
   "metadata": {},
   "outputs": [
    {
     "name": "stdout",
     "output_type": "stream",
     "text": [
      "[array([0.54907975, 0.53374233, 0.59509202, 0.58588957, 0.61656442,\n",
      "       0.62883436, 0.63190184, 0.60736196, 0.60736196, 0.63190184,\n",
      "       0.55521472, 0.57055215, 0.61349693, 0.60122699, 0.61042945,\n",
      "       0.60736196, 0.6196319 , 0.61042945, 0.59509202, 0.58282209,\n",
      "       0.56748466, 0.53680982, 0.54294479, 0.5797546 , 0.59815951,\n",
      "       0.58895706, 0.55828221, 0.54907975, 0.55828221, 0.54601227,\n",
      "       0.55214724, 0.50920245, 0.49079755, 0.44478528, 0.42638037,\n",
      "       0.40797546, 0.36196319, 0.37730061, 0.32208589, 0.31288344,\n",
      "       0.2791411 , 0.30368098, 0.28527607, 0.28527607, 0.29141104,\n",
      "       0.25460123, 0.21472393, 0.19631902, 0.16564417, 0.13803681,\n",
      "       0.12269939, 0.14723926, 0.17177914, 0.15030675, 0.16564417,\n",
      "       0.14417178, 0.13190184, 0.13496933, 0.12269939, 0.11349693])]\n",
      "[0.09815950920245399]\n",
      "\n",
      "[array([0.54907975, 0.53374233, 0.59509202, 0.58588957, 0.61656442,\n",
      "       0.62883436, 0.63190184, 0.60736196, 0.60736196, 0.63190184,\n",
      "       0.55521472, 0.57055215, 0.61349693, 0.60122699, 0.61042945,\n",
      "       0.60736196, 0.6196319 , 0.61042945, 0.59509202, 0.58282209,\n",
      "       0.56748466, 0.53680982, 0.54294479, 0.5797546 , 0.59815951,\n",
      "       0.58895706, 0.55828221, 0.54907975, 0.55828221, 0.54601227,\n",
      "       0.55214724, 0.50920245, 0.49079755, 0.44478528, 0.42638037,\n",
      "       0.40797546, 0.36196319, 0.37730061, 0.32208589, 0.31288344,\n",
      "       0.2791411 , 0.30368098, 0.28527607, 0.28527607, 0.29141104,\n",
      "       0.25460123, 0.21472393, 0.19631902, 0.16564417, 0.13803681,\n",
      "       0.12269939, 0.14723926, 0.17177914, 0.15030675, 0.16564417,\n",
      "       0.14417178, 0.13190184, 0.13496933, 0.12269939, 0.11349693]), array([0.53374233, 0.59509202, 0.58588957, 0.61656442, 0.62883436,\n",
      "       0.63190184, 0.60736196, 0.60736196, 0.63190184, 0.55521472,\n",
      "       0.57055215, 0.61349693, 0.60122699, 0.61042945, 0.60736196,\n",
      "       0.6196319 , 0.61042945, 0.59509202, 0.58282209, 0.56748466,\n",
      "       0.53680982, 0.54294479, 0.5797546 , 0.59815951, 0.58895706,\n",
      "       0.55828221, 0.54907975, 0.55828221, 0.54601227, 0.55214724,\n",
      "       0.50920245, 0.49079755, 0.44478528, 0.42638037, 0.40797546,\n",
      "       0.36196319, 0.37730061, 0.32208589, 0.31288344, 0.2791411 ,\n",
      "       0.30368098, 0.28527607, 0.28527607, 0.29141104, 0.25460123,\n",
      "       0.21472393, 0.19631902, 0.16564417, 0.13803681, 0.12269939,\n",
      "       0.14723926, 0.17177914, 0.15030675, 0.16564417, 0.14417178,\n",
      "       0.13190184, 0.13496933, 0.12269939, 0.11349693, 0.09815951])]\n",
      "[0.09815950920245399, 0.09815950920245399]\n",
      "\n"
     ]
    },
    {
     "data": {
      "text/plain": [
       "(300, 60, 1)"
      ]
     },
     "execution_count": 280,
     "metadata": {},
     "output_type": "execute_result"
    }
   ],
   "source": [
    "# Create the training data set \n",
    "# Create the scaled training data set\n",
    "train_data = scaled_data[0:int(training_data_len), :]\n",
    "# Split the data into x_train and y_train data sets\n",
    "x_train = []\n",
    "y_train = []\n",
    "\n",
    "for i in range(60, len(train_data)):\n",
    "    x_train.append(train_data[i-60:i, 0])\n",
    "    y_train.append(train_data[i, 0])\n",
    "    if i<= 61:\n",
    "        print(x_train)\n",
    "        print(y_train)\n",
    "        print()\n",
    "        \n",
    "# Convert the x_train and y_train to numpy arrays \n",
    "x_train, y_train = np.array(x_train), np.array(y_train)\n",
    "\n",
    "# Reshape the data\n",
    "x_train = np.reshape(x_train, (x_train.shape[0], x_train.shape[1], 1))\n",
    "\n",
    "# x_train.shape\n",
    "x_train.shape\n"
   ]
  },
  {
   "cell_type": "code",
   "execution_count": 281,
   "id": "de63b1bd",
   "metadata": {},
   "outputs": [
    {
     "name": "stdout",
     "output_type": "stream",
     "text": [
      "Epoch 1/28\n",
      "30/30 [==============================] - 5s 32ms/step - loss: 0.0261\n",
      "Epoch 2/28\n",
      "30/30 [==============================] - 1s 32ms/step - loss: 0.0054\n",
      "Epoch 3/28\n",
      "30/30 [==============================] - 1s 33ms/step - loss: 0.0030\n",
      "Epoch 4/28\n",
      "30/30 [==============================] - 1s 32ms/step - loss: 0.0029\n",
      "Epoch 5/28\n",
      "30/30 [==============================] - 1s 32ms/step - loss: 0.0029\n",
      "Epoch 6/28\n",
      "30/30 [==============================] - 1s 31ms/step - loss: 0.0026\n",
      "Epoch 7/28\n",
      "30/30 [==============================] - 1s 32ms/step - loss: 0.0025\n",
      "Epoch 8/28\n",
      "30/30 [==============================] - 1s 32ms/step - loss: 0.0025\n",
      "Epoch 9/28\n",
      "30/30 [==============================] - 1s 32ms/step - loss: 0.0032\n",
      "Epoch 10/28\n",
      "30/30 [==============================] - 1s 32ms/step - loss: 0.0022\n",
      "Epoch 11/28\n",
      "30/30 [==============================] - 1s 32ms/step - loss: 0.0019\n",
      "Epoch 12/28\n",
      "30/30 [==============================] - 1s 32ms/step - loss: 0.0018\n",
      "Epoch 13/28\n",
      "30/30 [==============================] - 1s 30ms/step - loss: 0.0024\n",
      "Epoch 14/28\n",
      "30/30 [==============================] - 1s 32ms/step - loss: 0.0019\n",
      "Epoch 15/28\n",
      "30/30 [==============================] - 1s 31ms/step - loss: 0.0019\n",
      "Epoch 16/28\n",
      "30/30 [==============================] - 1s 32ms/step - loss: 0.0021\n",
      "Epoch 17/28\n",
      "30/30 [==============================] - 1s 31ms/step - loss: 0.0022\n",
      "Epoch 18/28\n",
      "30/30 [==============================] - 1s 34ms/step - loss: 0.0024\n",
      "Epoch 19/28\n",
      "30/30 [==============================] - 1s 31ms/step - loss: 0.0022\n",
      "Epoch 20/28\n",
      "30/30 [==============================] - 1s 31ms/step - loss: 0.0015\n",
      "Epoch 21/28\n",
      "30/30 [==============================] - 1s 31ms/step - loss: 0.0014\n",
      "Epoch 22/28\n",
      "30/30 [==============================] - 1s 36ms/step - loss: 0.0016\n",
      "Epoch 23/28\n",
      "30/30 [==============================] - 1s 43ms/step - loss: 0.0014\n",
      "Epoch 24/28\n",
      "30/30 [==============================] - 1s 42ms/step - loss: 0.0015\n",
      "Epoch 25/28\n",
      "30/30 [==============================] - 1s 42ms/step - loss: 0.0014\n",
      "Epoch 26/28\n",
      "30/30 [==============================] - 1s 43ms/step - loss: 0.0013\n",
      "Epoch 27/28\n",
      "30/30 [==============================] - 1s 44ms/step - loss: 0.0016\n",
      "Epoch 28/28\n",
      "30/30 [==============================] - 1s 42ms/step - loss: 0.0012\n"
     ]
    },
    {
     "data": {
      "text/plain": [
       "<keras.callbacks.History at 0x2b0232f5760>"
      ]
     },
     "execution_count": 281,
     "metadata": {},
     "output_type": "execute_result"
    }
   ],
   "source": [
    "from keras.models import Sequential\n",
    "from keras.layers import Dense, LSTM\n",
    "\n",
    "# Build the LSTM model\n",
    "model = Sequential()\n",
    "model.add(LSTM(128, return_sequences=True, input_shape= (x_train.shape[1], 1)))\n",
    "model.add(LSTM(64, return_sequences=False))\n",
    "model.add(Dense(25))\n",
    "model.add(Dense(1))\n",
    "\n",
    "# Compile the model\n",
    "model.compile(optimizer='adam', loss='mean_squared_error')\n",
    "\n",
    "# Train the model\n",
    "model.fit(x_train, y_train, batch_size=10, epochs=28)"
   ]
  },
  {
   "cell_type": "code",
   "execution_count": 282,
   "id": "bbdc81f4",
   "metadata": {},
   "outputs": [
    {
     "name": "stdout",
     "output_type": "stream",
     "text": [
      "(154, 60, 1)\n",
      "5/5 [==============================] - 2s 19ms/step\n"
     ]
    },
    {
     "data": {
      "text/plain": [
       "7.8986362324627"
      ]
     },
     "execution_count": 282,
     "metadata": {},
     "output_type": "execute_result"
    }
   ],
   "source": [
    "# Create the testing data set\n",
    "# Create a new array containing scaled values from index 1543 to 2002 \n",
    "test_data = scaled_data[training_data_len - 60: , :]\n",
    "# Create the data sets x_test and y_test\n",
    "x_test = []\n",
    "y_test = dataset[training_data_len:, :]\n",
    "for i in range(60, len(test_data)):\n",
    "    x_test.append(test_data[i-60:i, 0])\n",
    "    \n",
    "# Convert the data to a numpy array\n",
    "x_test = np.array(x_test)\n",
    "\n",
    "# Reshape the data\n",
    "x_test = np.reshape(x_test, (x_test.shape[0], x_test.shape[1], 1 ))\n",
    "# x_test.shape\n",
    "print(x_test.shape)\n",
    "# Get the models predicted price values \n",
    "predictions = model.predict(x_test)\n",
    "predictions = scaler.inverse_transform(predictions)\n",
    "\n",
    "# Get the root mean squared error (RMSE)\n",
    "rmse = np.sqrt(np.mean(((predictions - y_test) ** 2)))\n",
    "rmse"
   ]
  },
  {
   "cell_type": "code",
   "execution_count": 283,
   "id": "e96d0fa7",
   "metadata": {},
   "outputs": [
    {
     "data": {
      "text/plain": [
       "7.8986362324627"
      ]
     },
     "execution_count": 283,
     "metadata": {},
     "output_type": "execute_result"
    }
   ],
   "source": [
    "\n",
    "resultsDict['LSTM'] = evaluate(y_test, predictions)\n",
    "predictionsDict['LSTM'] = predictions\n",
    "np.sqrt(np.mean(((predictions - y_test) ** 2)))"
   ]
  },
  {
   "cell_type": "markdown",
   "id": "1c3268bb",
   "metadata": {},
   "source": [
    "## Ensembling\n"
   ]
  },
  {
   "cell_type": "code",
   "execution_count": 294,
   "id": "9e5b5042",
   "metadata": {},
   "outputs": [
    {
     "data": {
      "image/png": "[encoded data removed]",
      "text/plain": [
       "<Figure size 1440x1080 with 4 Axes>"
      ]
     },
     "metadata": {
      "needs_background": "light"
     },
     "output_type": "display_data"
    }
   ],
   "source": [
    "bar_metrics(resultsDict)"
   ]
  },
  {
   "cell_type": "code",
   "execution_count": 295,
   "id": "d166cdb8",
   "metadata": {},
   "outputs": [
    {
     "data": {
      "text/plain": [
       "{'BayesianRidge': {'mae': 20.217144191870677,\n",
       "  'rmse': 25.64443323242818,\n",
       "  'mape': 0.35904070775087055,\n",
       "  'r2': 0.911191268448325},\n",
       " 'Lasso': {'mae': 20.46824792278761,\n",
       "  'rmse': 25.877539131980836,\n",
       "  'mape': 0.3723082850719863,\n",
       "  'r2': 0.909569401579929},\n",
       " 'RandomForest': {'mae': 13.28329032258064,\n",
       "  'rmse': 17.920302614812393,\n",
       "  'mape': 0.20057375773203293,\n",
       "  'r2': 0.9566329245916007},\n",
       " 'XGBoost': {'mae': 14.517658805847168,\n",
       "  'rmse': 20.756400100877563,\n",
       "  'mape': 0.21373795275021196,\n",
       "  'r2': 0.941820025852927},\n",
       " 'SVM RBF': {'mae': 20.102305872303738,\n",
       "  'rmse': 25.725277404392994,\n",
       "  'mape': 0.3426902364627219,\n",
       "  'r2': 0.910630446123566},\n",
       " 'KNN': {'mae': 15.949080154271456,\n",
       "  'rmse': 22.1376725720464,\n",
       "  'mape': 0.2188906130987347,\n",
       "  'r2': 0.933818992212386},\n",
       " 'LinearRegression': {'mae': 20.13215498380289,\n",
       "  'rmse': 25.577885088831735,\n",
       "  'mape': 0.3560821930468718,\n",
       "  'r2': 0.9116515935233038},\n",
       " 'MLP': {'mae': 14.304143671192158,\n",
       "  'rmse': 19.411135202836302,\n",
       "  'mape': 0.21567200911519094,\n",
       "  'r2': 0.9491171620323905},\n",
       " 'DecisionTreeClassifier': {'mae': 21.2,\n",
       "  'rmse': 33.922682486748805,\n",
       "  'mape': 0.3149107568758,\n",
       "  'r2': 0.8446004232427246},\n",
       " 'LDA': {'mae': 18.2,\n",
       "  'rmse': 27.300360389917103,\n",
       "  'mape': 0.23748780730165603,\n",
       "  'r2': 0.8993517525440345},\n",
       " 'SVM RBF GRID SEARCH': {'mae': 16.522375375951977,\n",
       "  'rmse': 21.532499524408575,\n",
       "  'mape': 0.2600680852968525,\n",
       "  'r2': 0.9373878885858301},\n",
       " 'LSTM': {'mae': 5.471567321133304,\n",
       "  'rmse': 7.8986362324627,\n",
       "  'mape': 0.16764558645988142,\n",
       "  'r2': 0.8716649150644823}}"
      ]
     },
     "execution_count": 295,
     "metadata": {},
     "output_type": "execute_result"
    }
   ],
   "source": [
    "resultsDict"
   ]
  },
  {
   "cell_type": "code",
   "execution_count": 296,
   "id": "e27bb588",
   "metadata": {},
   "outputs": [],
   "source": [
    "plt.style.use('seaborn')"
   ]
  },
  {
   "cell_type": "code",
   "execution_count": 297,
   "id": "f7dcac37",
   "metadata": {},
   "outputs": [
    {
     "data": {
      "image/png": "[encoded data removed]",
      "text/plain": [
       "<Figure size 1152x576 with 1 Axes>"
      ]
     },
     "metadata": {},
     "output_type": "display_data"
    }
   ],
   "source": [
    "train=data[:training_data_len]\n",
    "valid=data[training_data_len:]\n",
    "valid['predictions'] = predictions\n",
    "\n",
    "#Visualize the data\n",
    "plt.figure(figsize=(16,8))\n",
    "plt.title('Model prediciton results - Admission_Total')\n",
    "plt.xlabel('Date', fontsize=18)\n",
    "plt.ylabel('Admission_Total', fontsize=18)\n",
    "plt.plot(train['Admission_Total'] , color='red')\n",
    "plt.plot(valid['Admission_Total'] , color='yellow')\n",
    "plt.plot(valid[ 'predictions'] , color='green')\n",
    "plt.legend(['Train','Validation', 'predictions'], loc='lower right')\n",
    "plt.show()"
   ]
  },
  {
   "cell_type": "code",
   "execution_count": 298,
   "id": "9cd87c3e",
   "metadata": {},
   "outputs": [
    {
     "data": {
      "text/html": [
       "<div>\n",
       "<style scoped>\n",
       "    .dataframe tbody tr th:only-of-type {\n",
       "        vertical-align: middle;\n",
       "    }\n",
       "\n",
       "    .dataframe tbody tr th {\n",
       "        vertical-align: top;\n",
       "    }\n",
       "\n",
       "    .dataframe thead th {\n",
       "        text-align: right;\n",
       "    }\n",
       "</style>\n",
       "<table border=\"1\" class=\"dataframe\">\n",
       "  <thead>\n",
       "    <tr style=\"text-align: right;\">\n",
       "      <th></th>\n",
       "      <th>Admission_Total</th>\n",
       "      <th>predictions</th>\n",
       "    </tr>\n",
       "    <tr>\n",
       "      <th>Date</th>\n",
       "      <th></th>\n",
       "      <th></th>\n",
       "    </tr>\n",
       "  </thead>\n",
       "  <tbody>\n",
       "    <tr>\n",
       "      <th>2021-10-18</th>\n",
       "      <td>85</td>\n",
       "      <td>93.523140</td>\n",
       "    </tr>\n",
       "    <tr>\n",
       "      <th>2021-10-19</th>\n",
       "      <td>78</td>\n",
       "      <td>90.834549</td>\n",
       "    </tr>\n",
       "    <tr>\n",
       "      <th>2021-10-20</th>\n",
       "      <td>84</td>\n",
       "      <td>86.709251</td>\n",
       "    </tr>\n",
       "    <tr>\n",
       "      <th>2021-10-21</th>\n",
       "      <td>89</td>\n",
       "      <td>84.411705</td>\n",
       "    </tr>\n",
       "    <tr>\n",
       "      <th>2021-10-22</th>\n",
       "      <td>73</td>\n",
       "      <td>84.566376</td>\n",
       "    </tr>\n",
       "    <tr>\n",
       "      <th>...</th>\n",
       "      <td>...</td>\n",
       "      <td>...</td>\n",
       "    </tr>\n",
       "    <tr>\n",
       "      <th>2022-03-16</th>\n",
       "      <td>24</td>\n",
       "      <td>20.497904</td>\n",
       "    </tr>\n",
       "    <tr>\n",
       "      <th>2022-03-17</th>\n",
       "      <td>25</td>\n",
       "      <td>19.935951</td>\n",
       "    </tr>\n",
       "    <tr>\n",
       "      <th>2022-03-18</th>\n",
       "      <td>28</td>\n",
       "      <td>20.200230</td>\n",
       "    </tr>\n",
       "    <tr>\n",
       "      <th>2022-03-19</th>\n",
       "      <td>26</td>\n",
       "      <td>21.562283</td>\n",
       "    </tr>\n",
       "    <tr>\n",
       "      <th>2022-03-20</th>\n",
       "      <td>23</td>\n",
       "      <td>22.822397</td>\n",
       "    </tr>\n",
       "  </tbody>\n",
       "</table>\n",
       "<p>154 rows × 2 columns</p>\n",
       "</div>"
      ],
      "text/plain": [
       "            Admission_Total  predictions\n",
       "Date                                    \n",
       "2021-10-18               85    93.523140\n",
       "2021-10-19               78    90.834549\n",
       "2021-10-20               84    86.709251\n",
       "2021-10-21               89    84.411705\n",
       "2021-10-22               73    84.566376\n",
       "...                     ...          ...\n",
       "2022-03-16               24    20.497904\n",
       "2022-03-17               25    19.935951\n",
       "2022-03-18               28    20.200230\n",
       "2022-03-19               26    21.562283\n",
       "2022-03-20               23    22.822397\n",
       "\n",
       "[154 rows x 2 columns]"
      ]
     },
     "execution_count": 298,
     "metadata": {},
     "output_type": "execute_result"
    }
   ],
   "source": [
    "valid"
   ]
  },
  {
   "cell_type": "markdown",
   "id": "ccd1a6b1",
   "metadata": {},
   "source": [
    "### Predict the next 20 days"
   ]
  },
  {
   "cell_type": "code",
   "execution_count": 305,
   "id": "d25fcf0b",
   "metadata": {},
   "outputs": [],
   "source": [
    "datelist_future = pd.date_range(start='2022/03/21',periods=20, freq='1d').tolist()"
   ]
  },
  {
   "cell_type": "code",
   "execution_count": 306,
   "id": "23a0ee7f",
   "metadata": {},
   "outputs": [],
   "source": [
    "datelist_future_ = []\n",
    "for this_timestamp in datelist_future:\n",
    "    datelist_future_.append(this_timestamp.date())\n"
   ]
  },
  {
   "cell_type": "code",
   "execution_count": 307,
   "id": "02b5e002",
   "metadata": {},
   "outputs": [],
   "source": [
    "# ---> Special function: convert  to \n",
    "def datetime_to_timestamp(x):\n",
    "    '''\n",
    "        x : a given datetime value (datetime.date)\n",
    "    '''\n",
    "    return datetime.strptime(x.strftime('%Y%m%d'), '%Y%m%d')"
   ]
  },
  {
   "cell_type": "code",
   "execution_count": 308,
   "id": "2ccad39b",
   "metadata": {},
   "outputs": [
    {
     "name": "stdout",
     "output_type": "stream",
     "text": [
      "1/1 [==============================] - 0s 35ms/step\n"
     ]
    }
   ],
   "source": [
    "predictions_future = model.predict(x_test[-20:])\n"
   ]
  },
  {
   "cell_type": "code",
   "execution_count": 309,
   "id": "ba072bbb",
   "metadata": {},
   "outputs": [
    {
     "data": {
      "text/plain": [
       "array([[53.61289 ],\n",
       "       [52.47654 ],\n",
       "       [53.363605],\n",
       "       [53.030148],\n",
       "       [51.79083 ],\n",
       "       [48.349903],\n",
       "       [44.696957],\n",
       "       [40.5555  ],\n",
       "       [36.146675],\n",
       "       [32.29895 ],\n",
       "       [29.713545],\n",
       "       [28.237917],\n",
       "       [26.48232 ],\n",
       "       [24.579975],\n",
       "       [21.955435],\n",
       "       [20.497904],\n",
       "       [19.935951],\n",
       "       [20.20023 ],\n",
       "       [21.562283],\n",
       "       [22.822397]], dtype=float32)"
      ]
     },
     "execution_count": 309,
     "metadata": {},
     "output_type": "execute_result"
    }
   ],
   "source": [
    "y_pred_future = scaler.inverse_transform(predictions_future)\n",
    "y_pred_future"
   ]
  },
  {
   "cell_type": "code",
   "execution_count": 310,
   "id": "320e7015",
   "metadata": {},
   "outputs": [
    {
     "data": {
      "text/html": [
       "<div>\n",
       "<style scoped>\n",
       "    .dataframe tbody tr th:only-of-type {\n",
       "        vertical-align: middle;\n",
       "    }\n",
       "\n",
       "    .dataframe tbody tr th {\n",
       "        vertical-align: top;\n",
       "    }\n",
       "\n",
       "    .dataframe thead th {\n",
       "        text-align: right;\n",
       "    }\n",
       "</style>\n",
       "<table border=\"1\" class=\"dataframe\">\n",
       "  <thead>\n",
       "    <tr style=\"text-align: right;\">\n",
       "      <th></th>\n",
       "      <th>Admission_Total</th>\n",
       "    </tr>\n",
       "  </thead>\n",
       "  <tbody>\n",
       "    <tr>\n",
       "      <th>2022-03-21</th>\n",
       "      <td>53.612888</td>\n",
       "    </tr>\n",
       "    <tr>\n",
       "      <th>2022-03-22</th>\n",
       "      <td>52.476540</td>\n",
       "    </tr>\n",
       "    <tr>\n",
       "      <th>2022-03-23</th>\n",
       "      <td>53.363605</td>\n",
       "    </tr>\n",
       "    <tr>\n",
       "      <th>2022-03-24</th>\n",
       "      <td>53.030148</td>\n",
       "    </tr>\n",
       "    <tr>\n",
       "      <th>2022-03-25</th>\n",
       "      <td>51.790829</td>\n",
       "    </tr>\n",
       "    <tr>\n",
       "      <th>2022-03-26</th>\n",
       "      <td>48.349903</td>\n",
       "    </tr>\n",
       "    <tr>\n",
       "      <th>2022-03-27</th>\n",
       "      <td>44.696957</td>\n",
       "    </tr>\n",
       "    <tr>\n",
       "      <th>2022-03-28</th>\n",
       "      <td>40.555500</td>\n",
       "    </tr>\n",
       "    <tr>\n",
       "      <th>2022-03-29</th>\n",
       "      <td>36.146675</td>\n",
       "    </tr>\n",
       "    <tr>\n",
       "      <th>2022-03-30</th>\n",
       "      <td>32.298950</td>\n",
       "    </tr>\n",
       "    <tr>\n",
       "      <th>2022-03-31</th>\n",
       "      <td>29.713545</td>\n",
       "    </tr>\n",
       "    <tr>\n",
       "      <th>2022-04-01</th>\n",
       "      <td>28.237917</td>\n",
       "    </tr>\n",
       "    <tr>\n",
       "      <th>2022-04-02</th>\n",
       "      <td>26.482321</td>\n",
       "    </tr>\n",
       "    <tr>\n",
       "      <th>2022-04-03</th>\n",
       "      <td>24.579975</td>\n",
       "    </tr>\n",
       "    <tr>\n",
       "      <th>2022-04-04</th>\n",
       "      <td>21.955435</td>\n",
       "    </tr>\n",
       "    <tr>\n",
       "      <th>2022-04-05</th>\n",
       "      <td>20.497904</td>\n",
       "    </tr>\n",
       "    <tr>\n",
       "      <th>2022-04-06</th>\n",
       "      <td>19.935951</td>\n",
       "    </tr>\n",
       "    <tr>\n",
       "      <th>2022-04-07</th>\n",
       "      <td>20.200230</td>\n",
       "    </tr>\n",
       "    <tr>\n",
       "      <th>2022-04-08</th>\n",
       "      <td>21.562283</td>\n",
       "    </tr>\n",
       "    <tr>\n",
       "      <th>2022-04-09</th>\n",
       "      <td>22.822397</td>\n",
       "    </tr>\n",
       "  </tbody>\n",
       "</table>\n",
       "</div>"
      ],
      "text/plain": [
       "            Admission_Total\n",
       "2022-03-21        53.612888\n",
       "2022-03-22        52.476540\n",
       "2022-03-23        53.363605\n",
       "2022-03-24        53.030148\n",
       "2022-03-25        51.790829\n",
       "2022-03-26        48.349903\n",
       "2022-03-27        44.696957\n",
       "2022-03-28        40.555500\n",
       "2022-03-29        36.146675\n",
       "2022-03-30        32.298950\n",
       "2022-03-31        29.713545\n",
       "2022-04-01        28.237917\n",
       "2022-04-02        26.482321\n",
       "2022-04-03        24.579975\n",
       "2022-04-04        21.955435\n",
       "2022-04-05        20.497904\n",
       "2022-04-06        19.935951\n",
       "2022-04-07        20.200230\n",
       "2022-04-08        21.562283\n",
       "2022-04-09        22.822397"
      ]
     },
     "execution_count": 310,
     "metadata": {},
     "output_type": "execute_result"
    }
   ],
   "source": [
    "PREDICTIONS_FUTURE = pd.DataFrame(y_pred_future, columns=['Admission_Total']).set_index(pd.Series(datelist_future))\n",
    "PREDICTIONS_FUTURE"
   ]
  },
  {
   "cell_type": "code",
   "execution_count": 311,
   "id": "4eda4bbc",
   "metadata": {},
   "outputs": [
    {
     "data": {
      "image/png": "[encoded data removed]",
      "text/plain": [
       "<Figure size 1152x576 with 1 Axes>"
      ]
     },
     "metadata": {},
     "output_type": "display_data"
    }
   ],
   "source": [
    "# Set plot size \n",
    "train=data[:training_data_len]\n",
    "valid=data[training_data_len:]\n",
    "valid['predictions'] = predictions\n",
    "\n",
    "#Visualize the data\n",
    "plt.figure(figsize=(16,8))\n",
    "plt.title('Model prediciton results - Admission_Total')\n",
    "plt.xlabel('Date', fontsize=18)\n",
    "plt.ylabel('Admission_Total', fontsize=18)\n",
    "plt.plot(train['Admission_Total'] , color='blue')\n",
    "plt.plot(valid['Admission_Total'] , color='orange')\n",
    "plt.plot(valid[ 'predictions'] , color='green')\n",
    "plt.plot(PREDICTIONS_FUTURE.index, PREDICTIONS_FUTURE['Admission_Total'], color='r', label='Predicted Admission_Total')\n",
    "\n",
    "plt.legend(['Train','Validation', 'predictions','future'], loc='upper left')\n",
    "\n",
    "plt.axvline(x = min(PREDICTIONS_FUTURE.index), color='green', linewidth=2, linestyle='--')\n",
    "plt.show()\n",
    "from pylab import rcParams\n",
    "rcParams['figure.figsize'] = 14, 5\n",
    "\n",
    "\n",
    "\n",
    "\n"
   ]
  },
  {
   "cell_type": "code",
   "execution_count": null,
   "id": "c0d9d1d7",
   "metadata": {},
   "outputs": [],
   "source": []
  }
 ],
 "metadata": {
  "kernelspec": {
   "display_name": "Python 3 (ipykernel)",
   "language": "python",
   "name": "python3"
  },
  "language_info": {
   "codemirror_mode": {
    "name": "ipython",
    "version": 3
   },
   "file_extension": ".py",
   "mimetype": "text/x-python",
   "name": "python",
   "nbconvert_exporter": "python",
   "pygments_lexer": "ipython3",
   "version": "3.9.12"
  }
 },
 "nbformat": 4,
 "nbformat_minor": 5
}
